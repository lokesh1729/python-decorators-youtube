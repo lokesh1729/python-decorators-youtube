{
 "cells": [
  {
   "cell_type": "code",
   "execution_count": 4,
   "metadata": {},
   "outputs": [],
   "source": [
    "movie_db = [\n",
    "    {\n",
    "        \"name\": \"The Shawshank Redemption\",\n",
    "        \"year\": 1994    ,\n",
    "        \"actors\": [\"Morgan Freeman\", \"Tim Robbins\", \"Clancy Brown\"],\n",
    "        \"genre\": [\"drama\"]\n",
    "    },\n",
    "    {\n",
    "        \"name\": \"Shutter Island\",\n",
    "        \"year\": 2009,\n",
    "        \"actors\": [\"Leonardo Dicaprio\", \"Mark Ruffalo\", \"Ben Kingsley\"],\n",
    "        \"genre\": [\"mystery\", \"thriller\"]\n",
    "    },\n",
    "    {\n",
    "        \"name\": \"Django Unchained\",\n",
    "        \"year\": 2012,\n",
    "        \"actors\": [\"Jamie Foxx\", \"Leonardo Dicaprio\", \"Samuel Jackson\"],\n",
    "        \"genre\": [\"drama\", \"action\"]\n",
    "    }\n",
    "]"
   ]
  },
  {
   "cell_type": "code",
   "execution_count": 2,
   "metadata": {},
   "outputs": [],
   "source": [
    "def fetch_movies_by_actor(actor_name):\n",
    "    if actor_name == '' or actor_name is None:\n",
    "        raise ValueError(\"actor name shouldn't be empty'\")\n",
    "    return filter(lambda movie: actor_name in movie[\"actors\"], movie_db)"
   ]
  },
  {
   "cell_type": "code",
   "execution_count": 15,
   "metadata": {},
   "outputs": [],
   "source": [
    "obj = fetch_movies_by_actor"
   ]
  },
  {
   "cell_type": "code",
   "execution_count": 16,
   "metadata": {},
   "outputs": [
    {
     "name": "stdout",
     "output_type": "stream",
     "text": [
      "<function fetch_movies_by_actor at 0x1102dd310>\n"
     ]
    }
   ],
   "source": [
    "print(obj)"
   ]
  },
  {
   "cell_type": "code",
   "execution_count": 17,
   "metadata": {},
   "outputs": [
    {
     "name": "stdout",
     "output_type": "stream",
     "text": [
      "<function fetch_movies_by_actor at 0x1102dd310>\n"
     ]
    }
   ],
   "source": [
    "print(fetch_movies_by_actor)"
   ]
  },
  {
   "cell_type": "code",
   "execution_count": 18,
   "metadata": {},
   "outputs": [],
   "source": [
    "list_of_movies = [fetch_movies_by_actor for _ in range(5)]"
   ]
  },
  {
   "cell_type": "code",
   "execution_count": 19,
   "metadata": {},
   "outputs": [
    {
     "name": "stdout",
     "output_type": "stream",
     "text": [
      "[<function fetch_movies_by_actor at 0x1102dd310>, <function fetch_movies_by_actor at 0x1102dd310>, <function fetch_movies_by_actor at 0x1102dd310>, <function fetch_movies_by_actor at 0x1102dd310>, <function fetch_movies_by_actor at 0x1102dd310>]\n"
     ]
    }
   ],
   "source": [
    "print(list_of_movies)"
   ]
  },
  {
   "cell_type": "code",
   "execution_count": 20,
   "metadata": {},
   "outputs": [],
   "source": [
    "def fetch_movie_details(actor_name, func=None):\n",
    "    if func is not None:\n",
    "        movies = func(actor_name)\n",
    "        return movies\n",
    "    return []"
   ]
  },
  {
   "cell_type": "code",
   "execution_count": 21,
   "metadata": {},
   "outputs": [],
   "source": [
    "result = fetch_movie_details(\"Leonardo Dicaprio\", fetch_movies_by_actor)"
   ]
  },
  {
   "cell_type": "code",
   "execution_count": 23,
   "metadata": {},
   "outputs": [
    {
     "name": "stdout",
     "output_type": "stream",
     "text": [
      "{'name': 'Shutter Island', 'year': 2009, 'actors': ['Leonardo Dicaprio', 'Mark Ruffalo', 'Ben Kingsley'], 'genre': ['mystery', 'thriller']}\n",
      "{'name': 'Django Unchained', 'year': 2012, 'actors': ['Jamie Foxx', 'Leonardo Dicaprio', 'Samuel Jackson'], 'genre': ['drama', 'action']}\n"
     ]
    }
   ],
   "source": [
    "for each_item in result:\n",
    "    print(each_item)"
   ]
  },
  {
   "cell_type": "code",
   "execution_count": 2,
   "metadata": {},
   "outputs": [],
   "source": [
    "def fetch_movie_genres_by_year(year):\n",
    "    filtered_movies = list(filter(lambda movie: movie[\"year\"] == year, movie_db))\n",
    "    result = set()\n",
    "    def get_genres_by_movie_name(movie_name):\n",
    "        movie = list(filter(lambda movie: movie[\"name\"] == movie_name ,filtered_movies))[0]\n",
    "        return movie[\"genre\"]\n",
    "    \n",
    "    for each_movie in filtered_movies:\n",
    "        result = result.union(set(get_genres_by_movie_name(each_movie[\"name\"])))\n",
    "    return ','.join(result)"
   ]
  },
  {
   "cell_type": "code",
   "execution_count": 5,
   "metadata": {},
   "outputs": [
    {
     "data": {
      "text/plain": [
       "'drama'"
      ]
     },
     "execution_count": 5,
     "metadata": {},
     "output_type": "execute_result"
    }
   ],
   "source": [
    "fetch_movie_genres_by_year(1994)"
   ]
  },
  {
   "cell_type": "code",
   "execution_count": 26,
   "metadata": {},
   "outputs": [],
   "source": [
    "def fetch_movie_genres_by_year(year):\n",
    "    filtered_movies = list(filter(lambda movie: movie[\"year\"] == year, movie_db))\n",
    "    def get_genres_by_movie_name(movie_name):\n",
    "        movie = list(filter(lambda movie: movie[\"name\"] == movie_name ,filtered_movies))[0]\n",
    "        return movie[\"genre\"]\n",
    "    return get_genres_by_movie_name"
   ]
  },
  {
   "cell_type": "code",
   "execution_count": 27,
   "metadata": {},
   "outputs": [],
   "source": [
    "obj = fetch_movie_genres_by_year(2012)"
   ]
  },
  {
   "cell_type": "code",
   "execution_count": 28,
   "metadata": {},
   "outputs": [
    {
     "name": "stdout",
     "output_type": "stream",
     "text": [
      "<function fetch_movie_genres_by_year.<locals>.get_genres_by_movie_name at 0x1102dda60>\n"
     ]
    }
   ],
   "source": [
    "print(obj)"
   ]
  },
  {
   "cell_type": "code",
   "execution_count": 31,
   "metadata": {},
   "outputs": [
    {
     "data": {
      "text/plain": [
       "['drama', 'action']"
      ]
     },
     "execution_count": 31,
     "metadata": {},
     "output_type": "execute_result"
    }
   ],
   "source": [
    "obj(\"Django Unchained\")"
   ]
  },
  {
   "cell_type": "code",
   "execution_count": 32,
   "metadata": {},
   "outputs": [],
   "source": [
    "def decorator(func):\n",
    "    def inner(*args, **kwargs):\n",
    "        print(\"before calling function\")\n",
    "        result = func(*args,**kwargs)\n",
    "        print(\"after calling function, result is %s\" % result)\n",
    "        return result\n",
    "    return inner"
   ]
  },
  {
   "cell_type": "code",
   "execution_count": 33,
   "metadata": {},
   "outputs": [],
   "source": [
    "def add(a, b):\n",
    "    return a+b"
   ]
  },
  {
   "cell_type": "code",
   "execution_count": 34,
   "metadata": {},
   "outputs": [
    {
     "name": "stdout",
     "output_type": "stream",
     "text": [
      "5\n"
     ]
    }
   ],
   "source": [
    "print(add(2,3))"
   ]
  },
  {
   "cell_type": "code",
   "execution_count": 35,
   "metadata": {},
   "outputs": [],
   "source": [
    "@decorator\n",
    "def add(a, b):\n",
    "    return a+b"
   ]
  },
  {
   "cell_type": "code",
   "execution_count": 36,
   "metadata": {},
   "outputs": [
    {
     "name": "stdout",
     "output_type": "stream",
     "text": [
      "before calling function\n",
      "after calling function, result is 5\n",
      "5\n"
     ]
    }
   ],
   "source": [
    "print(add(2,3))"
   ]
  },
  {
   "cell_type": "code",
   "execution_count": null,
   "metadata": {},
   "outputs": [],
   "source": []
  }
 ],
 "metadata": {
  "kernelspec": {
   "display_name": "Python 3",
   "language": "python",
   "name": "python3"
  },
  "language_info": {
   "codemirror_mode": {
    "name": "ipython",
    "version": 3
   },
   "file_extension": ".py",
   "mimetype": "text/x-python",
   "name": "python",
   "nbconvert_exporter": "python",
   "pygments_lexer": "ipython3",
   "version": "3.8.2"
  }
 },
 "nbformat": 4,
 "nbformat_minor": 2
}
